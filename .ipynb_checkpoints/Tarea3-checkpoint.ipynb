{
 "cells": [
  {
   "cell_type": "markdown",
   "metadata": {},
   "source": [
    "# Tarea 3\n",
    "Gabriel De La Parra\n",
    "\n",
    "## Modulo 2 - Medición de forma celular\n",
    "En este punto debe utilizar la segmentación resultante del punto anterior, y una segmentación de referencia que se entregó por u-cursos. Identifique cada una de las células en el epitelio (objetos conectados de un tamaño mínimo de 100 pixeles). Para cada uno de estos objetos obtenga las mediciones que se piden (posición, área, elongación).\n",
    "\n",
    "En esta demostración, se entregarán primero los resultados y posteriormente el proceso paso a paso."
   ]
  },
  {
   "cell_type": "markdown",
   "metadata": {},
   "source": [
    "### Modulos utilizados"
   ]
  },
  {
   "cell_type": "code",
   "execution_count": 1,
   "metadata": {
    "collapsed": false
   },
   "outputs": [],
   "source": [
    "%matplotlib inline\n",
    "from skimage import io, morphology, measure\n",
    "from scipy import ndimage as ndi\n",
    "import matplotlib\n",
    "import matplotlib.pyplot as plt\n",
    "import numpy as np\n",
    "\n",
    "#Ajustar el tamaño de las imágenes:\n",
    "matplotlib.rcParams['figure.figsize'] = (14,12)"
   ]
  },
  {
   "cell_type": "markdown",
   "metadata": {},
   "source": [
    "### Segmentación de celulas y filtrado de objetos pequeños\n",
    "Si bien se solicita que se filtre sobre objetos mayores a 100px, se entrega una visualización sobre los resultados de filtrar sobre tamaños mayores."
   ]
  },
  {
   "cell_type": "code",
   "execution_count": 5,
   "metadata": {
    "collapsed": false,
    "scrolled": true
   },
   "outputs": [
    {
     "data": {
      "image/png": "[encoded data removed]",
      "text/html": [
       "<img src=data:image/png;base64,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 class=\"jupyter-widget\">\n",
       "<script type=\"application/vnd.jupyter-embedded-widgets\">[{},{},{\"value\":211,\"max\":1000,\"layout\":\"IPY_MODEL_8fecd6ca99a04c80964cc301f8047cfa\",\"description\":\"Min Size:\"},{\"layout\":\"IPY_MODEL_28a79f91a22e49fa9897f61a9a127102\",\"children\":[\"IPY_MODEL_882aa4dad3ce4637814040e953a85f4f\"],\"_dom_classes\":[\"widget-interact\"]}]</script>"
      ]
     },
     "metadata": {
      "isWidgetSnapshot": true
     },
     "output_type": "display_data"
    },
    {
     "data": {
      "image/png": "[encoded data removed]",
      "text/html": [
       "<img src=data:image/png;base64,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 class=\"jupyter-widget\">\n",
       "<script type=\"application/vnd.jupyter-embedded-widgets\">[{},{},{\"value\":211,\"max\":1000,\"layout\":\"IPY_MODEL_8fecd6ca99a04c80964cc301f8047cfa\",\"description\":\"Min Size:\"},{\"layout\":\"IPY_MODEL_28a79f91a22e49fa9897f61a9a127102\",\"children\":[\"IPY_MODEL_882aa4dad3ce4637814040e953a85f4f\"],\"_dom_classes\":[\"widget-interact\"]}]</script>"
      ]
     },
     "metadata": {
      "isWidgetSnapshot": true
     },
     "output_type": "display_data"
    },
    {
     "ename": "AttributeError",
     "evalue": "'function' object has no attribute 'clear_output'",
     "output_type": "error",
     "traceback": [
      "\u001b[0;31m---------------------------------------------------------------------------\u001b[0m",
      "\u001b[0;31mAttributeError\u001b[0m                            Traceback (most recent call last)",
      "\u001b[0;32m<ipython-input-5-14c4ef2dd145>\u001b[0m in \u001b[0;36mon_button_clicked\u001b[0;34m(b)\u001b[0m\n\u001b[1;32m      6\u001b[0m \u001b[1;33m\u001b[0m\u001b[0m\n\u001b[1;32m      7\u001b[0m \u001b[1;32mdef\u001b[0m \u001b[0mon_button_clicked\u001b[0m\u001b[1;33m(\u001b[0m\u001b[0mb\u001b[0m\u001b[1;33m)\u001b[0m\u001b[1;33m:\u001b[0m\u001b[1;33m\u001b[0m\u001b[0m\n\u001b[0;32m----> 8\u001b[0;31m     \u001b[0mplot\u001b[0m\u001b[1;33m(\u001b[0m\u001b[0mslider\u001b[0m\u001b[1;33m.\u001b[0m\u001b[0mvalue\u001b[0m\u001b[1;33m)\u001b[0m\u001b[1;33m\u001b[0m\u001b[0m\n\u001b[0m\u001b[1;32m      9\u001b[0m \u001b[1;33m\u001b[0m\u001b[0m\n\u001b[1;32m     10\u001b[0m \u001b[1;32mdef\u001b[0m \u001b[0mplot\u001b[0m\u001b[1;33m(\u001b[0m\u001b[0mmin_size\u001b[0m\u001b[1;33m)\u001b[0m\u001b[1;33m:\u001b[0m\u001b[1;33m\u001b[0m\u001b[0m\n",
      "\u001b[0;32m<ipython-input-5-14c4ef2dd145>\u001b[0m in \u001b[0;36mplot\u001b[0;34m(min_size)\u001b[0m\n\u001b[1;32m     16\u001b[0m     \u001b[0mregions\u001b[0m \u001b[1;33m=\u001b[0m \u001b[0mmeasure\u001b[0m\u001b[1;33m.\u001b[0m\u001b[0mregionprops\u001b[0m\u001b[1;33m(\u001b[0m\u001b[0mlabel\u001b[0m\u001b[1;33m)\u001b[0m\u001b[1;33m\u001b[0m\u001b[0m\n\u001b[1;32m     17\u001b[0m \u001b[1;33m\u001b[0m\u001b[0m\n\u001b[0;32m---> 18\u001b[0;31m     \u001b[0mdisplay\u001b[0m\u001b[1;33m.\u001b[0m\u001b[0mclear_output\u001b[0m\u001b[1;33m(\u001b[0m\u001b[0mwait\u001b[0m\u001b[1;33m=\u001b[0m\u001b[1;32mTrue\u001b[0m\u001b[1;33m)\u001b[0m\u001b[1;33m\u001b[0m\u001b[0m\n\u001b[0m\u001b[1;32m     19\u001b[0m     \u001b[0mplt\u001b[0m\u001b[1;33m.\u001b[0m\u001b[0mimshow\u001b[0m\u001b[1;33m(\u001b[0m\u001b[0mlabel\u001b[0m\u001b[1;33m,\u001b[0m \u001b[0mcmap\u001b[0m\u001b[1;33m=\u001b[0m\u001b[1;34m\"inferno\"\u001b[0m\u001b[1;33m)\u001b[0m\u001b[1;33m\u001b[0m\u001b[0m\n\u001b[1;32m     20\u001b[0m \u001b[1;33m\u001b[0m\u001b[0m\n",
      "\u001b[0;31mAttributeError\u001b[0m: 'function' object has no attribute 'clear_output'"
     ]
    }
   ],
   "source": [
    "from ipywidgets import interact, widgets\n",
    "from IPython.display import display\n",
    "\n",
    "image = io.imread(\"./images/segmentacion_referencia.tif\")\n",
    "image = image[0]\n",
    "\n",
    "def on_button_clicked(b):\n",
    "    plot(slider.value)\n",
    "\n",
    "def plot(min_size):\n",
    "    fill = morphology.binary_erosion(image)\n",
    "    fill = morphology.remove_small_objects(fill,connectivity=8,min_size=min_size)\n",
    "    fill = morphology.binary_dilation(fill)\n",
    "    \n",
    "    label,_ = ndi.label(fill)\n",
    "    regions = measure.regionprops(label)\n",
    "    \n",
    "    display.clear_output()\n",
    "    plt.imshow(label, cmap=\"inferno\")\n",
    "    plt.show()\n",
    "    \n",
    "    print(\"Found:\",len(regions),\"regions!\")\n",
    "\n",
    "slider = widgets.IntSlider(value=100, min=0, max=1000, description='Min Size:')\n",
    "display(slider)\n",
    "\n",
    "button = widgets.Button(description=\"Filter!\")\n",
    "display(button)\n",
    "\n",
    "button.on_click(on_button_clicked)\n",
    "\n",
    "\n",
    "#interact(plot, min_size=slider)\n",
    "#print(\"Move the slider!\")"
   ]
  },
  {
   "cell_type": "markdown",
   "metadata": {},
   "source": [
    "### Identificación de características\n",
    "En la siguiente visualización, se entrega una forma dinámica de identificar las distintas células según los parámetros solicitados."
   ]
  },
  {
   "cell_type": "code",
   "execution_count": null,
   "metadata": {
    "collapsed": false
   },
   "outputs": [],
   "source": [
    "import mpld3\n",
    "from mpld3 import plugins\n",
    "\n",
    "image = io.imread(\"./images/segmentacion_referencia.tif\")\n",
    "image = image[0]\n",
    "\n",
    "fig, ax = plt.subplots()\n",
    "\n",
    "fill = morphology.binary_erosion(image)\n",
    "fill = morphology.remove_small_objects(fill,connectivity=8,min_size=100)\n",
    "fill = morphology.binary_dilation(fill)\n",
    "    \n",
    "label,_ = ndi.label(fill)\n",
    "regions = measure.regionprops(label)\n",
    "\n",
    "img = ax.imshow(label, cmap=\"magma\")\n",
    "N = len(regions)\n",
    "scatter = ax.scatter(x=[i.centroid[1] for i in regions], \n",
    "           y=[i.centroid[0] for i in regions],\n",
    "           alpha=0,\n",
    "           s=[i.equivalent_diameter*50  for i in regions])\n",
    "\n",
    "labels = ['<h1><p>&lambda;1: {0:.2f}</p><p>&lambda;2: {1:.2f}</p><p>Área: {2}</p> <p>Elongación: {3:.2f}</p></h1>'.format(i.major_axis_length, i.minor_axis_length,i.filled_area, (1 - (float(i.minor_axis_length)/float(i.major_axis_length)))) for i in regions if i.area>1]\n",
    "\n",
    "tooltip = mpld3.plugins.PointHTMLTooltip(scatter, labels=labels, css=\"h1 {color:black; text-shadow: 2px 0 0 #fff, -2px 0 0 #fff, 0 2px 0 #fff, 0 -2px 0 #fff, 1px 1px #fff, -1px -1px 0 #fff, 1px -1px 0 #fff, -1px 1px 0 #fff;}\")\n",
    "mpld3.plugins.connect(fig, tooltip)\n",
    "mpld3.display()"
   ]
  },
  {
   "cell_type": "markdown",
   "metadata": {},
   "source": [
    "### Proceso paso a paso\n",
    "\n",
    "#### Visualización imágen"
   ]
  },
  {
   "cell_type": "code",
   "execution_count": null,
   "metadata": {
    "collapsed": false
   },
   "outputs": [],
   "source": [
    "image = io.imread(\"./images/segmentacion_referencia.tif\")\n",
    "image = image[0]\n",
    "plt.imshow(image, cmap=\"gray\")\n",
    "plt.show()"
   ]
  },
  {
   "cell_type": "markdown",
   "metadata": {},
   "source": [
    "#### Erosión\n",
    "Se realiza erosión para marcar los bordes. Sin este proceso, no se pueden eliminar los objetos pequeños."
   ]
  },
  {
   "cell_type": "code",
   "execution_count": null,
   "metadata": {
    "collapsed": false
   },
   "outputs": [],
   "source": [
    "fill = morphology.binary_erosion(image)\n",
    "plt.imshow(fill, cmap=\"gray\")\n",
    "plt.show()"
   ]
  },
  {
   "cell_type": "markdown",
   "metadata": {},
   "source": [
    "#### Eliminar objetos pequeños\n",
    "En este caso, se filtran los objetos con tamaño menor a 100 en conectividad 8."
   ]
  },
  {
   "cell_type": "code",
   "execution_count": null,
   "metadata": {
    "collapsed": false
   },
   "outputs": [],
   "source": [
    "fill = morphology.remove_small_objects(fill,connectivity=8,min_size=100)\n",
    "plt.imshow(fill, cmap=\"gray\")\n",
    "plt.show()"
   ]
  },
  {
   "cell_type": "markdown",
   "metadata": {},
   "source": [
    "#### Dilatación\n",
    "Se procede a realizar una dilatación para contrarestar la erosión anterior."
   ]
  },
  {
   "cell_type": "code",
   "execution_count": null,
   "metadata": {
    "collapsed": false
   },
   "outputs": [],
   "source": [
    "fill = morphology.binary_dilation(fill)\n",
    "plt.imshow(fill, cmap=\"gray\")\n",
    "plt.show()"
   ]
  },
  {
   "cell_type": "markdown",
   "metadata": {},
   "source": [
    "#### Etiquetar y obtener propiedades de las regiones"
   ]
  },
  {
   "cell_type": "code",
   "execution_count": null,
   "metadata": {
    "collapsed": true
   },
   "outputs": [],
   "source": [
    "label,_ = ndi.label(fill)\n",
    "regions = measure.regionprops(label)"
   ]
  },
  {
   "cell_type": "markdown",
   "metadata": {},
   "source": [
    "#### Descripción de las regiones\n",
    "En este caso se filtran las regiones que tengan áreas menores a 1px."
   ]
  },
  {
   "cell_type": "code",
   "execution_count": null,
   "metadata": {
    "collapsed": false
   },
   "outputs": [],
   "source": [
    "i = 1\n",
    "for region in regions:\n",
    "    if region.filled_area > 1:\n",
    "        print()\n",
    "        print(\"Región: \",i)\n",
    "        print(\"Centroid:\", region.centroid)\n",
    "        print(\"Axis:\",region.minor_axis_length,\";\", region.major_axis_length)\n",
    "        print(\"Area:\", region.filled_area)\n",
    "        print(\"Elongación\", 1-(region.minor_axis_length/region.major_axis_length))\n",
    "        i+=1"
   ]
  },
  {
   "cell_type": "markdown",
   "metadata": {},
   "source": [
    "#### Visualizar resultado"
   ]
  },
  {
   "cell_type": "code",
   "execution_count": null,
   "metadata": {
    "collapsed": false
   },
   "outputs": [],
   "source": [
    "plt.imshow(label, cmap=\"inferno\")\n",
    "plt.show()"
   ]
  }
 ],
 "metadata": {
  "kernelspec": {
   "display_name": "Python [default]",
   "language": "python",
   "name": "python3"
  },
  "language_info": {
   "codemirror_mode": {
    "name": "ipython",
    "version": 3
   },
   "file_extension": ".py",
   "mimetype": "text/x-python",
   "name": "python",
   "nbconvert_exporter": "python",
   "pygments_lexer": "ipython3",
   "version": "3.5.2"
  },
  "widgets": {
   "state": {
    "2ddd7f007cf84b84bfe9c72239b5579c": {
     "views": [
      {
       "cell_index": 4
      }
     ]
    },
    "3a79207423c945cb98513ce6ed8710fa": {
     "views": [
      {
       "cell_index": 4
      }
     ]
    },
    "3bc0471e667649868b9085867ca5667c": {
     "views": [
      {
       "cell_index": 1
      }
     ]
    },
    "51b1141edc76484bb3806a6d96ea2d89": {
     "views": [
      {
       "cell_index": 4
      }
     ]
    },
    "7bfcb3f2f8d146f592aa4b5b39d7e25f": {
     "views": [
      {
       "cell_index": 4
      }
     ]
    },
    "a883e0192dcc4c768610792053e47867": {
     "views": [
      {
       "cell_index": 4
      }
     ]
    },
    "c381aea50c484e0a8600bb1fb51b4f02": {
     "views": [
      {
       "cell_index": 1
      }
     ]
    },
    "da7437a847d84296bfb0f9212faea988": {
     "views": [
      {
       "cell_index": 4
      }
     ]
    },
    "f036af43f049465b9a64434a8a69d93b": {
     "views": [
      {
       "cell_index": 1
      }
     ]
    },
    "f13d0857ed464e728296f2bfa1b666a8": {
     "views": [
      {
       "cell_index": 1
      }
     ]
    },
    "f1cc014314d14a36813d4ce25efcfb8e": {
     "views": [
      {
       "cell_index": 4
      }
     ]
    },
    "f98057ad82f34b18a06b956edaa8f1c3": {
     "views": [
      {
       "cell_index": 4
      }
     ]
    }
   },
   "version": "1.2.0"
  }
 },
 "nbformat": 4,
 "nbformat_minor": 2
}
