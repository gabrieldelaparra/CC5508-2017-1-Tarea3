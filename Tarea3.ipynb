{
 "cells": [
  {
   "cell_type": "markdown",
   "metadata": {},
   "source": [
    "# Tarea 3\n",
    "Gabriel De La Parra"
   ]
  },
  {
   "cell_type": "markdown",
   "metadata": {},
   "source": [
    "## Modulo 1 - Segmentación del Epitelio\n",
    "Para implementar esta segmentación utilice una filtro de difusión anisotrópica para mejorar la continuidad de las membranas (separación entre celulas). Puede implementarlo directamente o utilizar funciones existentes. A continuación realice una segmentación automática con el método de Otsu. Utilice todos los filtros morfológicos que estime necesario para\n",
    "corregir la segmentación.\n",
    "\n",
    "En esta demostración, se entregarán primero los resultados y posteriormente el proceso paso a paso."
   ]
  },
  {
   "cell_type": "markdown",
   "metadata": {},
   "source": [
    "### Inicialización de Packages"
   ]
  },
  {
   "cell_type": "code",
   "execution_count": null,
   "metadata": {
    "collapsed": false
   },
   "outputs": [],
   "source": [
    "%matplotlib inline\n",
    "\n",
    "from scipy import ndimage as ndi\n",
    "from skimage import io, morphology, filters, exposure, measure, segmentation\n",
    "import matplotlib.pylab as plt\n",
    "import matplotlib\n",
    "import numpy as np\n",
    "from PM2 import anisodiff2\n",
    "from ipywidgets import interact, widgets\n",
    "from IPython import display\n",
    "\n",
    "#Ajustar el tamaño de las imágenes:\n",
    "matplotlib.rcParams['figure.figsize'] = (14,12)"
   ]
  },
  {
   "cell_type": "markdown",
   "metadata": {},
   "source": [
    "### Interactivo - Segmentación de células"
   ]
  },
  {
   "cell_type": "code",
   "execution_count": null,
   "metadata": {
    "collapsed": false,
    "scrolled": false
   },
   "outputs": [],
   "source": [
    "images = io.imread(\"./images/raw.tif\")\n",
    "image = images[0]\n",
    "\n",
    "def on_button_clicked(b):\n",
    "    plot()\n",
    "    \n",
    "def plot(equalize=False, adaptEq=True, anis=True, niter=3, kappa=30, thres=True, otsu=0, morph=True, dilat=0, skel=True, remove=True, min_size=4, clear=True, Filter=True, labels=True):\n",
    "    image = images[0]\n",
    "\n",
    "    if Filter:\n",
    "        image = np.invert(image)\n",
    "\n",
    "        if equalize:\n",
    "            image = exposure.equalize_hist(image)\n",
    "        if adaptEq:\n",
    "            image = exposure.equalize_adapthist(image)\n",
    "\n",
    "        if anis:\n",
    "            image = anisodiff2(image, niter, kappa)\n",
    "\n",
    "        if thres:\n",
    "            image = image < (filters.threshold_otsu(image) + otsu)\n",
    "        \n",
    "        if morph:\n",
    "            for i in range(0,dilat):\n",
    "                image = morphology.binary_dilation(image)\n",
    "        \n",
    "        if remove:\n",
    "            image = morphology.remove_small_objects(image, min_size=min_size, connectivity=8)\n",
    "        \n",
    "        if skel:\n",
    "            image = morphology.skeletonize(image)\n",
    "            image = morphology.binary_dilation(image)\n",
    "\n",
    "        if clear:\n",
    "            image = np.invert(image)\n",
    "            image = segmentation.clear_border(image)\n",
    "    \n",
    "    if Filter and labels:\n",
    "        label,_ = ndi.label(image)\n",
    "        regions = measure.regionprops(label)\n",
    "        plt.imshow(label, cmap=\"gist_earth\")\n",
    "        print(\"Found:\",len(regions),\"regions!\")\n",
    "        plt.show()\n",
    "    \n",
    "    \n",
    "    if not labels or not Filter:\n",
    "        print(\"Image:\")\n",
    "        plt.imshow(image, cmap=\"gray\")\n",
    "        plt.show()\n",
    "    \n",
    "\n",
    "    \n",
    "minSizeSlider = widgets.IntSlider(value=8, min=0, max=200, description='Min Size:')\n",
    "otsuSlider = widgets.IntSlider(value=0, min=-20, max=20, description='Otsu Bias:')\n",
    "nIterSlider = widgets.IntSlider(value=2, min=1, max=200, description='Anif N:')\n",
    "kappaSlider = widgets.IntSlider(value=50, min=1, max=200, description='Anif K:')\n",
    "dilatSlider = widgets.IntSlider(value=4, min=0, max=6, description='Dilat:')\n",
    "\n",
    "interact(plot, min_size=minSizeSlider, otsu=otsuSlider, niter=nIterSlider, kappa=kappaSlider, dilat = dilatSlider)\n",
    "\n",
    "print(\"Interactive filtering\")"
   ]
  },
  {
   "cell_type": "markdown",
   "metadata": {},
   "source": [
    "### Proceso paso a paso\n",
    "\n",
    "#### Visualización imágen"
   ]
  },
  {
   "cell_type": "code",
   "execution_count": null,
   "metadata": {
    "collapsed": false
   },
   "outputs": [],
   "source": [
    "images = io.imread(\"./images/raw.tif\")\n",
    "image = images[0]\n",
    "plt.imshow(image, cmap=\"gray\")\n",
    "plt.show()"
   ]
  },
  {
   "cell_type": "markdown",
   "metadata": {},
   "source": [
    "#### Invertir imagen"
   ]
  },
  {
   "cell_type": "code",
   "execution_count": null,
   "metadata": {
    "collapsed": false
   },
   "outputs": [],
   "source": [
    "image = np.invert(image)\n",
    "plt.imshow(image, cmap=\"gray\")\n",
    "plt.show()"
   ]
  },
  {
   "cell_type": "markdown",
   "metadata": {},
   "source": [
    "#### Ecualización adaptativa de histograma"
   ]
  },
  {
   "cell_type": "code",
   "execution_count": null,
   "metadata": {
    "collapsed": false
   },
   "outputs": [],
   "source": [
    "image = exposure.equalize_adapthist(image)\n",
    "plt.imshow(image, cmap=\"gray\")\n",
    "plt.show()"
   ]
  },
  {
   "cell_type": "markdown",
   "metadata": {},
   "source": [
    "#### Filtro por difusión anisotrópica"
   ]
  },
  {
   "cell_type": "code",
   "execution_count": null,
   "metadata": {
    "collapsed": false
   },
   "outputs": [],
   "source": [
    "image = anisodiff2(image, 3, 60)\n",
    "plt.imshow(image, cmap=\"gray\")\n",
    "plt.show()"
   ]
  },
  {
   "cell_type": "markdown",
   "metadata": {},
   "source": [
    "#### Binarización por Otsu"
   ]
  },
  {
   "cell_type": "code",
   "execution_count": null,
   "metadata": {
    "collapsed": false
   },
   "outputs": [],
   "source": [
    "image = image < (filters.threshold_otsu(image))\n",
    "plt.imshow(image, cmap=\"gray\")\n",
    "plt.show()"
   ]
  },
  {
   "cell_type": "markdown",
   "metadata": {},
   "source": [
    "#### Filtrar pequeños objetos"
   ]
  },
  {
   "cell_type": "code",
   "execution_count": null,
   "metadata": {
    "collapsed": false
   },
   "outputs": [],
   "source": [
    "image = morphology.remove_small_objects(image, min_size=8, connectivity=8)\n",
    "plt.imshow(image, cmap=\"gray\")\n",
    "plt.show()"
   ]
  },
  {
   "cell_type": "markdown",
   "metadata": {},
   "source": [
    "#### Morfología: Dilatación para completar bordes faltantes"
   ]
  },
  {
   "cell_type": "code",
   "execution_count": null,
   "metadata": {
    "collapsed": false
   },
   "outputs": [],
   "source": [
    "image = morphology.binary_dilation(image)\n",
    "image = morphology.binary_dilation(image)\n",
    "image = morphology.binary_dilation(image)\n",
    "image = morphology.binary_dilation(image)\n",
    "plt.imshow(image, cmap=\"gray\")\n",
    "plt.show()"
   ]
  },
  {
   "cell_type": "markdown",
   "metadata": {},
   "source": [
    "#### Esqueletización"
   ]
  },
  {
   "cell_type": "code",
   "execution_count": null,
   "metadata": {
    "collapsed": false
   },
   "outputs": [],
   "source": [
    "image = morphology.skeletonize(image)\n",
    "plt.imshow(image, cmap=\"gray\")\n",
    "plt.show()"
   ]
  },
  {
   "cell_type": "code",
   "execution_count": null,
   "metadata": {
    "collapsed": false
   },
   "outputs": [],
   "source": [
    "image = morphology.binary_dilation(image)\n",
    "plt.imshow(image, cmap=\"gray\")\n",
    "plt.show()"
   ]
  },
  {
   "cell_type": "markdown",
   "metadata": {},
   "source": [
    "#### Eliminar bordes"
   ]
  },
  {
   "cell_type": "code",
   "execution_count": null,
   "metadata": {
    "collapsed": false
   },
   "outputs": [],
   "source": [
    "image = np.invert(image)\n",
    "image = segmentation.clear_border(image)\n",
    "plt.imshow(image, cmap=\"gray\")\n",
    "plt.show()"
   ]
  },
  {
   "cell_type": "markdown",
   "metadata": {},
   "source": [
    "#### Segmentación de células"
   ]
  },
  {
   "cell_type": "code",
   "execution_count": null,
   "metadata": {
    "collapsed": false
   },
   "outputs": [],
   "source": [
    "label,_ = ndi.label(image)\n",
    "regions = measure.regionprops(label)\n",
    "plt.imshow(label, cmap=\"gist_earth\")\n",
    "plt.show()"
   ]
  },
  {
   "cell_type": "markdown",
   "metadata": {},
   "source": [
    "## Modulo 2 - Medición de forma celular\n",
    "En este punto debe utilizar la segmentación resultante del punto anterior, y una segmentación de referencia que se entregó por u-cursos. Identifique cada una de las células en el epitelio (objetos conectados de un tamaño mínimo de 100 pixeles). Para cada uno de estos objetos obtenga las mediciones que se piden (posición, área, elongación).\n",
    "\n",
    "En esta demostración, se entregarán primero los resultados y posteriormente el proceso paso a paso."
   ]
  },
  {
   "cell_type": "markdown",
   "metadata": {},
   "source": [
    "### Inicialización de Packages"
   ]
  },
  {
   "cell_type": "code",
   "execution_count": null,
   "metadata": {
    "collapsed": false
   },
   "outputs": [],
   "source": [
    "%matplotlib inline\n",
    "from skimage import io, morphology, measure\n",
    "from scipy import ndimage as ndi\n",
    "import matplotlib\n",
    "import matplotlib.pyplot as plt\n",
    "import numpy as np\n",
    "from ipywidgets import interact, widgets\n",
    "from IPython import display\n",
    "import mpld3\n",
    "from mpld3 import plugins\n",
    "\n",
    "#Ajustar el tamaño de las imágenes:\n",
    "matplotlib.rcParams['figure.figsize'] = (14,12)"
   ]
  },
  {
   "cell_type": "markdown",
   "metadata": {},
   "source": [
    "### Interactivo: Segmentación de celulas y filtrado de objetos pequeños\n",
    "Si bien se solicita que se filtre sobre objetos mayores a 100px, se entrega una visualización sobre los resultados de filtrar sobre tamaños mayores."
   ]
  },
  {
   "cell_type": "code",
   "execution_count": null,
   "metadata": {
    "collapsed": false
   },
   "outputs": [],
   "source": [
    "image = io.imread(\"./images/segmentacion_referencia.tif\")\n",
    "image = image[0]\n",
    "\n",
    "def plot(min_size):\n",
    "    fill = morphology.binary_erosion(image)\n",
    "    fill = morphology.remove_small_objects(fill, connectivity=8, min_size=min_size)\n",
    "    fill = morphology.binary_dilation(fill)\n",
    "    \n",
    "    label,_ = ndi.label(fill)\n",
    "    regions = measure.regionprops(label)\n",
    "    \n",
    "    plt.imshow(label, cmap=\"inferno\")\n",
    "    \n",
    "    print(\"Found:\",len(regions),\"regions!\")\n",
    "    plt.show()\n",
    "\n",
    "slider = widgets.IntSlider(value=100, min=0, max=1000, description='Min Size:')\n",
    "interact(plot, min_size=slider)\n",
    "\n",
    "print(\"Interactive filtering\")"
   ]
  },
  {
   "cell_type": "markdown",
   "metadata": {},
   "source": [
    "### Interactivo: Identificación de características\n",
    "En la siguiente visualización, se entrega una forma dinámica de identificar las distintas células según los parámetros solicitados."
   ]
  },
  {
   "cell_type": "code",
   "execution_count": null,
   "metadata": {
    "collapsed": false
   },
   "outputs": [],
   "source": [
    "image = io.imread(\"./images/segmentacion_referencia.tif\")\n",
    "image = image[0]\n",
    "\n",
    "fig, ax = plt.subplots()\n",
    "\n",
    "fill = morphology.binary_erosion(image)\n",
    "fill = morphology.remove_small_objects(fill,connectivity=8,min_size=100)\n",
    "fill = morphology.binary_dilation(fill)\n",
    "    \n",
    "label,_ = ndi.label(fill)\n",
    "\n",
    "regions = measure.regionprops(label)\n",
    "regions.sort(key=lambda x: x.area, reverse=True)\n",
    "\n",
    "newImg = np.zeros(image.shape, dtype=np.int32)\n",
    "i=len(regions) + 20 # +20 para no llegar al negro\n",
    "\n",
    "for region in regions:\n",
    "    for coord in region.coords:\n",
    "        newImg[coord[0],coord[1]] = i\n",
    "    i -= 1\n",
    "    \n",
    "img = ax.imshow(newImg, cmap=\"gray\")\n",
    "N = len(regions)\n",
    "scatter = ax.scatter(x=[i.centroid[1] for i in regions], \n",
    "           y=[i.centroid[0] for i in regions],\n",
    "           alpha=0.1,\n",
    "           s=[i.equivalent_diameter*50  for i in regions])\n",
    "\n",
    "labels = ['<h1><p>&lambda;1: {0:.2f}</p><p>&lambda;2: {1:.2f}</p><p>Área: {2}</p> <p>Elongación: {3:.2f}</p></h1>'.format(i.major_axis_length, i.minor_axis_length,i.filled_area, (1 - (float(i.minor_axis_length)/float(i.major_axis_length)))) for i in regions if i.area>1]\n",
    "print(\"(Los circulos azules son para visualizar levemente las etiquetas sobrepuestas)\")\n",
    "tooltip = mpld3.plugins.PointHTMLTooltip(scatter, labels=labels, css=\"h1 {color:black; text-shadow: 2px 0 0 #fff, -2px 0 0 #fff, 0 2px 0 #fff, 0 -2px 0 #fff, 1px 1px #fff, -1px -1px 0 #fff, 1px -1px 0 #fff, -1px 1px 0 #fff;}\")\n",
    "mpld3.plugins.connect(fig, tooltip)\n",
    "mpld3.display()"
   ]
  },
  {
   "cell_type": "markdown",
   "metadata": {},
   "source": [
    "### Proceso paso a paso\n",
    "\n",
    "#### Visualización imágen"
   ]
  },
  {
   "cell_type": "code",
   "execution_count": null,
   "metadata": {
    "collapsed": false
   },
   "outputs": [],
   "source": [
    "image = io.imread(\"./images/segmentacion_referencia.tif\")\n",
    "image = image[0]\n",
    "plt.imshow(image, cmap=\"gray\")\n",
    "plt.show()"
   ]
  },
  {
   "cell_type": "markdown",
   "metadata": {},
   "source": [
    "#### Erosión\n",
    "Se realiza erosión para marcar los bordes. Sin este proceso, no se pueden eliminar los objetos pequeños."
   ]
  },
  {
   "cell_type": "code",
   "execution_count": null,
   "metadata": {
    "collapsed": false
   },
   "outputs": [],
   "source": [
    "fill = morphology.binary_erosion(image)\n",
    "plt.imshow(fill, cmap=\"gray\")\n",
    "plt.show()"
   ]
  },
  {
   "cell_type": "markdown",
   "metadata": {},
   "source": [
    "#### Eliminar objetos pequeños\n",
    "En este caso, se filtran los objetos con tamaño menor a 100 en conectividad 8."
   ]
  },
  {
   "cell_type": "code",
   "execution_count": null,
   "metadata": {
    "collapsed": false
   },
   "outputs": [],
   "source": [
    "fill = morphology.remove_small_objects(fill,connectivity=8,min_size=100)\n",
    "plt.imshow(fill, cmap=\"gray\")\n",
    "plt.show()"
   ]
  },
  {
   "cell_type": "markdown",
   "metadata": {},
   "source": [
    "#### Dilatación\n",
    "Se procede a realizar una dilatación para contrarestar la erosión anterior."
   ]
  },
  {
   "cell_type": "code",
   "execution_count": null,
   "metadata": {
    "collapsed": false
   },
   "outputs": [],
   "source": [
    "fill = morphology.binary_dilation(fill)\n",
    "plt.imshow(fill, cmap=\"gray\")\n",
    "plt.show()"
   ]
  },
  {
   "cell_type": "markdown",
   "metadata": {},
   "source": [
    "#### Etiquetar y obtener propiedades de las regiones"
   ]
  },
  {
   "cell_type": "code",
   "execution_count": null,
   "metadata": {
    "collapsed": true
   },
   "outputs": [],
   "source": [
    "label,_ = ndi.label(fill)\n",
    "regions = measure.regionprops(label)\n",
    "regions.sort(key=lambda x: x.area, reverse=True)"
   ]
  },
  {
   "cell_type": "markdown",
   "metadata": {},
   "source": [
    "#### Descripción de las regiones\n",
    "En este caso se filtran las regiones que tengan áreas menores a 1px."
   ]
  },
  {
   "cell_type": "code",
   "execution_count": null,
   "metadata": {
    "collapsed": false
   },
   "outputs": [],
   "source": [
    "i = 1\n",
    "for region in regions:\n",
    "    if region.filled_area > 1:\n",
    "        print()\n",
    "        print(\"Región: \",i)\n",
    "        print(\"Centroid:\", region.centroid)\n",
    "        print(\"Axis:\",region.minor_axis_length,\";\", region.major_axis_length)\n",
    "        print(\"Area:\", region.filled_area)\n",
    "        print(\"Elongación\", 1-(region.minor_axis_length/region.major_axis_length))\n",
    "        i+=1"
   ]
  },
  {
   "cell_type": "markdown",
   "metadata": {},
   "source": [
    "#### Ordenamiento según tamaños"
   ]
  },
  {
   "cell_type": "code",
   "execution_count": null,
   "metadata": {
    "collapsed": true
   },
   "outputs": [],
   "source": [
    "newImg = np.zeros(image.shape, dtype=np.int32)\n",
    "i=len(regions) + 20 # +20 para no llegar al negro\n",
    "\n",
    "for region in regions:\n",
    "    for coord in region.coords:\n",
    "        newImg[coord[0],coord[1]] = i\n",
    "    i -= 1"
   ]
  },
  {
   "cell_type": "markdown",
   "metadata": {},
   "source": [
    "#### Visualizar resultado"
   ]
  },
  {
   "cell_type": "code",
   "execution_count": null,
   "metadata": {
    "collapsed": false
   },
   "outputs": [],
   "source": [
    "plt.imshow(newImg, cmap=\"inferno\")\n",
    "plt.show()"
   ]
  }
 ],
 "metadata": {
  "kernelspec": {
   "display_name": "Python [default]",
   "language": "python",
   "name": "python3"
  },
  "language_info": {
   "codemirror_mode": {
    "name": "ipython",
    "version": 3
   },
   "file_extension": ".py",
   "mimetype": "text/x-python",
   "name": "python",
   "nbconvert_exporter": "python",
   "pygments_lexer": "ipython3",
   "version": "3.5.2"
  },
  "widgets": {
   "state": {
    "685f75852d7e4b549a998be66a894cf4": {
     "views": [
      {
       "cell_index": 31
      }
     ]
    },
    "fdf67fb8dc9e416b93dc64ad344e83a7": {
     "views": [
      {
       "cell_index": 5
      }
     ]
    }
   },
   "version": "1.2.0"
  }
 },
 "nbformat": 4,
 "nbformat_minor": 2
}
